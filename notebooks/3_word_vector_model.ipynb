{
 "cells": [
  {
   "cell_type": "markdown",
   "metadata": {},
   "source": [
    "# Modelling with Word Vectors"
   ]
  },
  {
   "cell_type": "markdown",
   "metadata": {},
   "source": [
    "I will be using [Spacy](https://spacy.io/) alongside sklearn in this notebook. "
   ]
  },
  {
   "cell_type": "code",
   "execution_count": 1,
   "metadata": {},
   "outputs": [],
   "source": [
    "import os\n",
    "import numpy as np \n",
    "import pandas as pd \n",
    "import matplotlib.pyplot as plt\n",
    "%matplotlib inline"
   ]
  },
  {
   "cell_type": "code",
   "execution_count": 2,
   "metadata": {},
   "outputs": [],
   "source": [
    "import warnings"
   ]
  },
  {
   "cell_type": "code",
   "execution_count": 3,
   "metadata": {},
   "outputs": [],
   "source": [
    "import bay12_solution_eposts as solution"
   ]
  },
  {
   "cell_type": "markdown",
   "metadata": {},
   "source": [
    "## Load data"
   ]
  },
  {
   "cell_type": "code",
   "execution_count": 4,
   "metadata": {},
   "outputs": [],
   "source": [
    "post, thread = solution.prepare.load_dfs('train')"
   ]
  },
  {
   "cell_type": "code",
   "execution_count": 5,
   "metadata": {},
   "outputs": [
    {
     "data": {
      "text/html": [
       "<div>\n",
       "<style scoped>\n",
       "    .dataframe tbody tr th:only-of-type {\n",
       "        vertical-align: middle;\n",
       "    }\n",
       "\n",
       "    .dataframe tbody tr th {\n",
       "        vertical-align: top;\n",
       "    }\n",
       "\n",
       "    .dataframe thead th {\n",
       "        text-align: right;\n",
       "    }\n",
       "</style>\n",
       "<table border=\"1\" class=\"dataframe\">\n",
       "  <thead>\n",
       "    <tr style=\"text-align: right;\">\n",
       "      <th></th>\n",
       "      <th>thread_num</th>\n",
       "      <th>user</th>\n",
       "      <th>text</th>\n",
       "      <th>quotes</th>\n",
       "    </tr>\n",
       "  </thead>\n",
       "  <tbody>\n",
       "    <tr>\n",
       "      <th>0</th>\n",
       "      <td>45016</td>\n",
       "      <td>Mephansteras</td>\n",
       "      <td>Basically, this is where we talk about what ga...</td>\n",
       "      <td>[]</td>\n",
       "    </tr>\n",
       "    <tr>\n",
       "      <th>1</th>\n",
       "      <td>45016</td>\n",
       "      <td>dakarian</td>\n",
       "      <td>The currently running or about to run games (i...</td>\n",
       "      <td>[]</td>\n",
       "    </tr>\n",
       "  </tbody>\n",
       "</table>\n",
       "</div>"
      ],
      "text/plain": [
       "   thread_num          user  \\\n",
       "0       45016  Mephansteras   \n",
       "1       45016      dakarian   \n",
       "\n",
       "                                                text quotes  \n",
       "0  Basically, this is where we talk about what ga...     []  \n",
       "1  The currently running or about to run games (i...     []  "
      ]
     },
     "execution_count": 5,
     "metadata": {},
     "output_type": "execute_result"
    }
   ],
   "source": [
    "post.head(2)"
   ]
  },
  {
   "cell_type": "code",
   "execution_count": 6,
   "metadata": {},
   "outputs": [
    {
     "data": {
      "text/html": [
       "<div>\n",
       "<style scoped>\n",
       "    .dataframe tbody tr th:only-of-type {\n",
       "        vertical-align: middle;\n",
       "    }\n",
       "\n",
       "    .dataframe tbody tr th {\n",
       "        vertical-align: top;\n",
       "    }\n",
       "\n",
       "    .dataframe thead th {\n",
       "        text-align: right;\n",
       "    }\n",
       "</style>\n",
       "<table border=\"1\" class=\"dataframe\">\n",
       "  <thead>\n",
       "    <tr style=\"text-align: right;\">\n",
       "      <th></th>\n",
       "      <th>thread_num</th>\n",
       "      <th>thread_name</th>\n",
       "      <th>thread_label</th>\n",
       "      <th>thread_replies</th>\n",
       "      <th>thread_label_id</th>\n",
       "    </tr>\n",
       "  </thead>\n",
       "  <tbody>\n",
       "    <tr>\n",
       "      <th>0</th>\n",
       "      <td>45016</td>\n",
       "      <td>Games Threshold Discussion and List [Vote for ...</td>\n",
       "      <td>other</td>\n",
       "      <td>5703</td>\n",
       "      <td>8</td>\n",
       "    </tr>\n",
       "    <tr>\n",
       "      <th>1</th>\n",
       "      <td>88720</td>\n",
       "      <td>New Player's Guide to the Subforum - New to Ma...</td>\n",
       "      <td>other</td>\n",
       "      <td>961</td>\n",
       "      <td>8</td>\n",
       "    </tr>\n",
       "  </tbody>\n",
       "</table>\n",
       "</div>"
      ],
      "text/plain": [
       "   thread_num                                        thread_name thread_label  \\\n",
       "0       45016  Games Threshold Discussion and List [Vote for ...        other   \n",
       "1       88720  New Player's Guide to the Subforum - New to Ma...        other   \n",
       "\n",
       "   thread_replies  thread_label_id  \n",
       "0            5703                8  \n",
       "1             961                8  "
      ]
     },
     "execution_count": 6,
     "metadata": {},
     "output_type": "execute_result"
    }
   ],
   "source": [
    "thread.head(2)"
   ]
  },
  {
   "cell_type": "markdown",
   "metadata": {},
   "source": [
    "I will set the thread number to be the index, to simplify matching in the future:"
   ]
  },
  {
   "cell_type": "code",
   "execution_count": 7,
   "metadata": {},
   "outputs": [
    {
     "data": {
      "text/html": [
       "<div>\n",
       "<style scoped>\n",
       "    .dataframe tbody tr th:only-of-type {\n",
       "        vertical-align: middle;\n",
       "    }\n",
       "\n",
       "    .dataframe tbody tr th {\n",
       "        vertical-align: top;\n",
       "    }\n",
       "\n",
       "    .dataframe thead th {\n",
       "        text-align: right;\n",
       "    }\n",
       "</style>\n",
       "<table border=\"1\" class=\"dataframe\">\n",
       "  <thead>\n",
       "    <tr style=\"text-align: right;\">\n",
       "      <th></th>\n",
       "      <th>thread_name</th>\n",
       "      <th>thread_label</th>\n",
       "      <th>thread_replies</th>\n",
       "      <th>thread_label_id</th>\n",
       "    </tr>\n",
       "    <tr>\n",
       "      <th>thread_num</th>\n",
       "      <th></th>\n",
       "      <th></th>\n",
       "      <th></th>\n",
       "      <th></th>\n",
       "    </tr>\n",
       "  </thead>\n",
       "  <tbody>\n",
       "    <tr>\n",
       "      <th>45016</th>\n",
       "      <td>Games Threshold Discussion and List [Vote for ...</td>\n",
       "      <td>other</td>\n",
       "      <td>5703</td>\n",
       "      <td>8</td>\n",
       "    </tr>\n",
       "    <tr>\n",
       "      <th>88720</th>\n",
       "      <td>New Player's Guide to the Subforum - New to Ma...</td>\n",
       "      <td>other</td>\n",
       "      <td>961</td>\n",
       "      <td>8</td>\n",
       "    </tr>\n",
       "  </tbody>\n",
       "</table>\n",
       "</div>"
      ],
      "text/plain": [
       "                                                  thread_name thread_label  \\\n",
       "thread_num                                                                   \n",
       "45016       Games Threshold Discussion and List [Vote for ...        other   \n",
       "88720       New Player's Guide to the Subforum - New to Ma...        other   \n",
       "\n",
       "            thread_replies  thread_label_id  \n",
       "thread_num                                   \n",
       "45016                 5703                8  \n",
       "88720                  961                8  "
      ]
     },
     "execution_count": 7,
     "metadata": {},
     "output_type": "execute_result"
    }
   ],
   "source": [
    "thread = thread.set_index('thread_num')\n",
    "thread.head(2)"
   ]
  },
  {
   "cell_type": "markdown",
   "metadata": {},
   "source": [
    "We'll load the label map as well, which tells us which index goes to which label"
   ]
  },
  {
   "cell_type": "code",
   "execution_count": 8,
   "metadata": {},
   "outputs": [
    {
     "data": {
      "text/plain": [
       "type_name\n",
       "bastard             0\n",
       "beginners-mafia     1\n",
       "byor                2\n",
       "classic             3\n",
       "closed-setup        4\n",
       "cybrid              5\n",
       "kotm                6\n",
       "non-mafia-game      7\n",
       "other               8\n",
       "paranormal          9\n",
       "supernatural       10\n",
       "vanilla            11\n",
       "vengeful           12\n",
       "Name: type_id, dtype: int64"
      ]
     },
     "execution_count": 8,
     "metadata": {},
     "output_type": "execute_result"
    }
   ],
   "source": [
    "label_map = solution.prepare.load_label_map()\n",
    "label_map"
   ]
  },
  {
   "cell_type": "markdown",
   "metadata": {},
   "source": [
    "## Vectorize our text features"
   ]
  },
  {
   "cell_type": "markdown",
   "metadata": {},
   "source": [
    "### Load a Spacy model to get word/sentence vectors"
   ]
  },
  {
   "cell_type": "markdown",
   "metadata": {},
   "source": [
    "I'll be using the large English model (~800 MB size) as shown [here](https://spacy.io/usage/models)."
   ]
  },
  {
   "cell_type": "code",
   "execution_count": 9,
   "metadata": {},
   "outputs": [],
   "source": [
    "import en_core_web_lg\n",
    "nlp = en_core_web_lg.load()"
   ]
  },
  {
   "cell_type": "code",
   "execution_count": 10,
   "metadata": {},
   "outputs": [
    {
     "data": {
      "text/plain": [
       "Games Threshold Discussion and List [Vote for games now!]"
      ]
     },
     "execution_count": 10,
     "metadata": {},
     "output_type": "execute_result"
    }
   ],
   "source": [
    "ex_name = thread['thread_name'].iloc[0]\n",
    "doc = nlp(ex_name)\n",
    "doc"
   ]
  },
  {
   "cell_type": "code",
   "execution_count": 11,
   "metadata": {},
   "outputs": [
    {
     "data": {
      "text/plain": [
       "array([-0.07033058,  0.06838092, -0.00824608, -0.09143116], dtype=float32)"
      ]
     },
     "execution_count": 11,
     "metadata": {},
     "output_type": "execute_result"
    }
   ],
   "source": [
    "# Average vector for the entire name\n",
    "doc.vector[:4]"
   ]
  },
  {
   "cell_type": "markdown",
   "metadata": {},
   "source": [
    "### Get documents for 'thread_name', 'first' (first post), maybe even 'join' (joining of all posts) "
   ]
  },
  {
   "cell_type": "markdown",
   "metadata": {},
   "source": [
    "**NOTE**: Not using the \"whole thread\" text because it takes a long time to calculate. \n",
    "Feel free to use the first line below, instead of the second, to add the 'join' column."
   ]
  },
  {
   "cell_type": "code",
   "execution_count": 12,
   "metadata": {},
   "outputs": [
    {
     "data": {
      "text/html": [
       "<div>\n",
       "<style scoped>\n",
       "    .dataframe tbody tr th:only-of-type {\n",
       "        vertical-align: middle;\n",
       "    }\n",
       "\n",
       "    .dataframe tbody tr th {\n",
       "        vertical-align: top;\n",
       "    }\n",
       "\n",
       "    .dataframe thead th {\n",
       "        text-align: right;\n",
       "    }\n",
       "</style>\n",
       "<table border=\"1\" class=\"dataframe\">\n",
       "  <thead>\n",
       "    <tr style=\"text-align: right;\">\n",
       "      <th></th>\n",
       "      <th>thread_name</th>\n",
       "      <th>first</th>\n",
       "    </tr>\n",
       "    <tr>\n",
       "      <th>thread_num</th>\n",
       "      <th></th>\n",
       "      <th></th>\n",
       "    </tr>\n",
       "  </thead>\n",
       "  <tbody>\n",
       "    <tr>\n",
       "      <th>14868</th>\n",
       "      <td>Mafia game</td>\n",
       "      <td>Mafia is a fun forum game! Read more hereWe ne...</td>\n",
       "    </tr>\n",
       "    <tr>\n",
       "      <th>27839</th>\n",
       "      <td>Mafia - The End</td>\n",
       "      <td>I have finally decided to add another game to ...</td>\n",
       "    </tr>\n",
       "    <tr>\n",
       "      <th>28183</th>\n",
       "      <td>Pirate Mafia ARRGH!!! - It's over.</td>\n",
       "      <td>Description\\r\\r\\n\\r\\r\\nYes you heard right, In...</td>\n",
       "    </tr>\n",
       "    <tr>\n",
       "      <th>28239</th>\n",
       "      <td>Space Mafia</td>\n",
       "      <td>This is the third installment of the Mafia gam...</td>\n",
       "    </tr>\n",
       "    <tr>\n",
       "      <th>28682</th>\n",
       "      <td>CCS Rampage in Liberal City, USA---A Mafia Sty...</td>\n",
       "      <td>QUOTED_SECTION \\r\\r\\nCCS Rampage is your stan...</td>\n",
       "    </tr>\n",
       "  </tbody>\n",
       "</table>\n",
       "</div>"
      ],
      "text/plain": [
       "                                                  thread_name  \\\n",
       "thread_num                                                      \n",
       "14868                                              Mafia game   \n",
       "27839                                         Mafia - The End   \n",
       "28183                      Pirate Mafia ARRGH!!! - It's over.   \n",
       "28239                                             Space Mafia   \n",
       "28682       CCS Rampage in Liberal City, USA---A Mafia Sty...   \n",
       "\n",
       "                                                        first  \n",
       "thread_num                                                     \n",
       "14868       Mafia is a fun forum game! Read more hereWe ne...  \n",
       "27839       I have finally decided to add another game to ...  \n",
       "28183       Description\\r\\r\\n\\r\\r\\nYes you heard right, In...  \n",
       "28239       This is the third installment of the Mafia gam...  \n",
       "28682        QUOTED_SECTION \\r\\r\\nCCS Rampage is your stan...  "
      ]
     },
     "execution_count": 12,
     "metadata": {},
     "output_type": "execute_result"
    }
   ],
   "source": [
    "# thread_texts = post.groupby('thread_num')['text'].agg(['first', ' '.join])\n",
    "thread_texts = post.groupby('thread_num')['text'].agg(['first'])\n",
    "thread_texts = pd.concat(\n",
    "    [\n",
    "        thread[['thread_name']], \n",
    "        thread_texts\n",
    "    ], \n",
    "    axis='columns'\n",
    ")\n",
    "thread_texts.head()"
   ]
  },
  {
   "cell_type": "code",
   "execution_count": 13,
   "metadata": {},
   "outputs": [],
   "source": [
    "import itertools \n",
    "\n",
    "text_feature_names = [\n",
    "    '%s_%s' % (col, num) \n",
    "    for col, num \n",
    "    in itertools.product(thread_texts.columns, range(300)) \n",
    "]\n",
    "\n",
    "def vectorize_row(row, cols=thread_texts.columns, text_feature_names=text_feature_names):\n",
    "    \"\"\"Vectorizes a row of texts.\"\"\"\n",
    "    \n",
    "    res = np.array([])\n",
    "    for col in cols:\n",
    "        txt = row.loc[col][:100000]  # limit is 10x bigger, but we want to be safe :)\n",
    "        res = np.r_[res, nlp(txt).vector]\n",
    "    # v0 = nlp(row.loc['thread_name']).vector\n",
    "    # v1 = nlp(row.loc['first']).vector\n",
    "    # v2 = nlp(row.loc['join']).vector\n",
    "    return pd.Series(res, text_feature_names)\n"
   ]
  },
  {
   "cell_type": "code",
   "execution_count": 14,
   "metadata": {},
   "outputs": [
    {
     "data": {
      "text/html": [
       "<div>\n",
       "<style scoped>\n",
       "    .dataframe tbody tr th:only-of-type {\n",
       "        vertical-align: middle;\n",
       "    }\n",
       "\n",
       "    .dataframe tbody tr th {\n",
       "        vertical-align: top;\n",
       "    }\n",
       "\n",
       "    .dataframe thead th {\n",
       "        text-align: right;\n",
       "    }\n",
       "</style>\n",
       "<table border=\"1\" class=\"dataframe\">\n",
       "  <thead>\n",
       "    <tr style=\"text-align: right;\">\n",
       "      <th></th>\n",
       "      <th>thread_name_0</th>\n",
       "      <th>thread_name_1</th>\n",
       "      <th>thread_name_2</th>\n",
       "      <th>thread_name_3</th>\n",
       "      <th>thread_name_4</th>\n",
       "      <th>thread_name_5</th>\n",
       "      <th>thread_name_6</th>\n",
       "      <th>thread_name_7</th>\n",
       "      <th>thread_name_8</th>\n",
       "      <th>thread_name_9</th>\n",
       "      <th>...</th>\n",
       "      <th>first_290</th>\n",
       "      <th>first_291</th>\n",
       "      <th>first_292</th>\n",
       "      <th>first_293</th>\n",
       "      <th>first_294</th>\n",
       "      <th>first_295</th>\n",
       "      <th>first_296</th>\n",
       "      <th>first_297</th>\n",
       "      <th>first_298</th>\n",
       "      <th>first_299</th>\n",
       "    </tr>\n",
       "    <tr>\n",
       "      <th>thread_num</th>\n",
       "      <th></th>\n",
       "      <th></th>\n",
       "      <th></th>\n",
       "      <th></th>\n",
       "      <th></th>\n",
       "      <th></th>\n",
       "      <th></th>\n",
       "      <th></th>\n",
       "      <th></th>\n",
       "      <th></th>\n",
       "      <th></th>\n",
       "      <th></th>\n",
       "      <th></th>\n",
       "      <th></th>\n",
       "      <th></th>\n",
       "      <th></th>\n",
       "      <th></th>\n",
       "      <th></th>\n",
       "      <th></th>\n",
       "      <th></th>\n",
       "      <th></th>\n",
       "    </tr>\n",
       "  </thead>\n",
       "  <tbody>\n",
       "    <tr>\n",
       "      <th>14868</th>\n",
       "      <td>-0.134918</td>\n",
       "      <td>-0.081951</td>\n",
       "      <td>0.127861</td>\n",
       "      <td>-0.172295</td>\n",
       "      <td>0.190115</td>\n",
       "      <td>-0.173446</td>\n",
       "      <td>0.036431</td>\n",
       "      <td>0.052020</td>\n",
       "      <td>0.458380</td>\n",
       "      <td>1.641215</td>\n",
       "      <td>...</td>\n",
       "      <td>-0.259338</td>\n",
       "      <td>-0.065182</td>\n",
       "      <td>-0.064679</td>\n",
       "      <td>-0.119324</td>\n",
       "      <td>0.027151</td>\n",
       "      <td>0.044259</td>\n",
       "      <td>-0.078820</td>\n",
       "      <td>-0.187372</td>\n",
       "      <td>-0.012146</td>\n",
       "      <td>0.149975</td>\n",
       "    </tr>\n",
       "    <tr>\n",
       "      <th>27839</th>\n",
       "      <td>-0.009330</td>\n",
       "      <td>0.176693</td>\n",
       "      <td>-0.041203</td>\n",
       "      <td>0.203682</td>\n",
       "      <td>0.243933</td>\n",
       "      <td>-0.048978</td>\n",
       "      <td>0.046361</td>\n",
       "      <td>0.128970</td>\n",
       "      <td>0.048780</td>\n",
       "      <td>1.726635</td>\n",
       "      <td>...</td>\n",
       "      <td>-0.147977</td>\n",
       "      <td>0.019893</td>\n",
       "      <td>-0.036932</td>\n",
       "      <td>-0.083081</td>\n",
       "      <td>-0.012876</td>\n",
       "      <td>0.028734</td>\n",
       "      <td>-0.064797</td>\n",
       "      <td>-0.077120</td>\n",
       "      <td>0.034178</td>\n",
       "      <td>0.035782</td>\n",
       "    </tr>\n",
       "    <tr>\n",
       "      <th>28183</th>\n",
       "      <td>-0.138806</td>\n",
       "      <td>0.162982</td>\n",
       "      <td>-0.037537</td>\n",
       "      <td>-0.148090</td>\n",
       "      <td>0.067772</td>\n",
       "      <td>-0.027928</td>\n",
       "      <td>0.068096</td>\n",
       "      <td>-0.051705</td>\n",
       "      <td>-0.025569</td>\n",
       "      <td>1.363740</td>\n",
       "      <td>...</td>\n",
       "      <td>-0.160191</td>\n",
       "      <td>0.035747</td>\n",
       "      <td>-0.049968</td>\n",
       "      <td>-0.099663</td>\n",
       "      <td>-0.015113</td>\n",
       "      <td>0.053394</td>\n",
       "      <td>-0.078697</td>\n",
       "      <td>-0.062419</td>\n",
       "      <td>0.003403</td>\n",
       "      <td>0.022516</td>\n",
       "    </tr>\n",
       "    <tr>\n",
       "      <th>28239</th>\n",
       "      <td>0.180485</td>\n",
       "      <td>-0.180085</td>\n",
       "      <td>0.141012</td>\n",
       "      <td>0.084260</td>\n",
       "      <td>0.177981</td>\n",
       "      <td>0.156179</td>\n",
       "      <td>-0.212108</td>\n",
       "      <td>-0.284140</td>\n",
       "      <td>0.166125</td>\n",
       "      <td>1.473865</td>\n",
       "      <td>...</td>\n",
       "      <td>-0.186458</td>\n",
       "      <td>0.020265</td>\n",
       "      <td>-0.009883</td>\n",
       "      <td>-0.069076</td>\n",
       "      <td>-0.039644</td>\n",
       "      <td>0.029223</td>\n",
       "      <td>-0.058409</td>\n",
       "      <td>-0.047814</td>\n",
       "      <td>0.006705</td>\n",
       "      <td>0.041114</td>\n",
       "    </tr>\n",
       "    <tr>\n",
       "      <th>28682</th>\n",
       "      <td>-0.038636</td>\n",
       "      <td>0.009004</td>\n",
       "      <td>0.022752</td>\n",
       "      <td>-0.029003</td>\n",
       "      <td>0.166535</td>\n",
       "      <td>0.019750</td>\n",
       "      <td>-0.122702</td>\n",
       "      <td>0.032978</td>\n",
       "      <td>0.083143</td>\n",
       "      <td>1.566071</td>\n",
       "      <td>...</td>\n",
       "      <td>-0.130157</td>\n",
       "      <td>0.004898</td>\n",
       "      <td>-0.013040</td>\n",
       "      <td>-0.064136</td>\n",
       "      <td>-0.050408</td>\n",
       "      <td>0.003048</td>\n",
       "      <td>-0.074252</td>\n",
       "      <td>-0.072235</td>\n",
       "      <td>0.000071</td>\n",
       "      <td>0.009430</td>\n",
       "    </tr>\n",
       "  </tbody>\n",
       "</table>\n",
       "<p>5 rows × 600 columns</p>\n",
       "</div>"
      ],
      "text/plain": [
       "            thread_name_0  thread_name_1  thread_name_2  thread_name_3  \\\n",
       "thread_num                                                               \n",
       "14868           -0.134918      -0.081951       0.127861      -0.172295   \n",
       "27839           -0.009330       0.176693      -0.041203       0.203682   \n",
       "28183           -0.138806       0.162982      -0.037537      -0.148090   \n",
       "28239            0.180485      -0.180085       0.141012       0.084260   \n",
       "28682           -0.038636       0.009004       0.022752      -0.029003   \n",
       "\n",
       "            thread_name_4  thread_name_5  thread_name_6  thread_name_7  \\\n",
       "thread_num                                                               \n",
       "14868            0.190115      -0.173446       0.036431       0.052020   \n",
       "27839            0.243933      -0.048978       0.046361       0.128970   \n",
       "28183            0.067772      -0.027928       0.068096      -0.051705   \n",
       "28239            0.177981       0.156179      -0.212108      -0.284140   \n",
       "28682            0.166535       0.019750      -0.122702       0.032978   \n",
       "\n",
       "            thread_name_8  thread_name_9    ...      first_290  first_291  \\\n",
       "thread_num                                  ...                             \n",
       "14868            0.458380       1.641215    ...      -0.259338  -0.065182   \n",
       "27839            0.048780       1.726635    ...      -0.147977   0.019893   \n",
       "28183           -0.025569       1.363740    ...      -0.160191   0.035747   \n",
       "28239            0.166125       1.473865    ...      -0.186458   0.020265   \n",
       "28682            0.083143       1.566071    ...      -0.130157   0.004898   \n",
       "\n",
       "            first_292  first_293  first_294  first_295  first_296  first_297  \\\n",
       "thread_num                                                                     \n",
       "14868       -0.064679  -0.119324   0.027151   0.044259  -0.078820  -0.187372   \n",
       "27839       -0.036932  -0.083081  -0.012876   0.028734  -0.064797  -0.077120   \n",
       "28183       -0.049968  -0.099663  -0.015113   0.053394  -0.078697  -0.062419   \n",
       "28239       -0.009883  -0.069076  -0.039644   0.029223  -0.058409  -0.047814   \n",
       "28682       -0.013040  -0.064136  -0.050408   0.003048  -0.074252  -0.072235   \n",
       "\n",
       "            first_298  first_299  \n",
       "thread_num                        \n",
       "14868       -0.012146   0.149975  \n",
       "27839        0.034178   0.035782  \n",
       "28183        0.003403   0.022516  \n",
       "28239        0.006705   0.041114  \n",
       "28682        0.000071   0.009430  \n",
       "\n",
       "[5 rows x 600 columns]"
      ]
     },
     "execution_count": 14,
     "metadata": {},
     "output_type": "execute_result"
    }
   ],
   "source": [
    "thread_text_vectors = thread_texts.apply(vectorize_row, axis='columns')\n",
    "thread_text_vectors.head()"
   ]
  },
  {
   "cell_type": "markdown",
   "metadata": {},
   "source": [
    "## Create \"final\" dataset"
   ]
  },
  {
   "cell_type": "markdown",
   "metadata": {},
   "source": [
    "We only have one non-text feature, i.e. the number of posts. We'll use it and its log, and we'll scale them to be in `[-1, 1]`"
   ]
  },
  {
   "cell_type": "code",
   "execution_count": 15,
   "metadata": {},
   "outputs": [
    {
     "data": {
      "text/html": [
       "<div>\n",
       "<style scoped>\n",
       "    .dataframe tbody tr th:only-of-type {\n",
       "        vertical-align: middle;\n",
       "    }\n",
       "\n",
       "    .dataframe tbody tr th {\n",
       "        vertical-align: top;\n",
       "    }\n",
       "\n",
       "    .dataframe thead th {\n",
       "        text-align: right;\n",
       "    }\n",
       "</style>\n",
       "<table border=\"1\" class=\"dataframe\">\n",
       "  <thead>\n",
       "    <tr style=\"text-align: right;\">\n",
       "      <th></th>\n",
       "      <th>posts</th>\n",
       "      <th>posts_log</th>\n",
       "    </tr>\n",
       "    <tr>\n",
       "      <th>thread_num</th>\n",
       "      <th></th>\n",
       "      <th></th>\n",
       "    </tr>\n",
       "  </thead>\n",
       "  <tbody>\n",
       "    <tr>\n",
       "      <th>45016</th>\n",
       "      <td>5704</td>\n",
       "      <td>8.648923</td>\n",
       "    </tr>\n",
       "    <tr>\n",
       "      <th>88720</th>\n",
       "      <td>962</td>\n",
       "      <td>6.869014</td>\n",
       "    </tr>\n",
       "  </tbody>\n",
       "</table>\n",
       "</div>"
      ],
      "text/plain": [
       "            posts  posts_log\n",
       "thread_num                  \n",
       "45016        5704   8.648923\n",
       "88720         962   6.869014"
      ]
     },
     "execution_count": 15,
     "metadata": {},
     "output_type": "execute_result"
    }
   ],
   "source": [
    "thread_numeric_vectors = pd.DataFrame({\n",
    "    'posts': (thread['thread_replies'] + 1), \n",
    "    'posts_log': np.log(thread['thread_replies'] + 1), \n",
    "})\n",
    "thread_numeric_vectors.head(2)"
   ]
  },
  {
   "cell_type": "code",
   "execution_count": 16,
   "metadata": {},
   "outputs": [
    {
     "data": {
      "text/html": [
       "<div>\n",
       "<style scoped>\n",
       "    .dataframe tbody tr th:only-of-type {\n",
       "        vertical-align: middle;\n",
       "    }\n",
       "\n",
       "    .dataframe tbody tr th {\n",
       "        vertical-align: top;\n",
       "    }\n",
       "\n",
       "    .dataframe thead th {\n",
       "        text-align: right;\n",
       "    }\n",
       "</style>\n",
       "<table border=\"1\" class=\"dataframe\">\n",
       "  <thead>\n",
       "    <tr style=\"text-align: right;\">\n",
       "      <th></th>\n",
       "      <th>posts</th>\n",
       "      <th>posts_log</th>\n",
       "      <th>thread_name_0</th>\n",
       "      <th>thread_name_1</th>\n",
       "      <th>thread_name_2</th>\n",
       "      <th>thread_name_3</th>\n",
       "      <th>thread_name_4</th>\n",
       "      <th>thread_name_5</th>\n",
       "      <th>thread_name_6</th>\n",
       "      <th>thread_name_7</th>\n",
       "      <th>...</th>\n",
       "      <th>first_290</th>\n",
       "      <th>first_291</th>\n",
       "      <th>first_292</th>\n",
       "      <th>first_293</th>\n",
       "      <th>first_294</th>\n",
       "      <th>first_295</th>\n",
       "      <th>first_296</th>\n",
       "      <th>first_297</th>\n",
       "      <th>first_298</th>\n",
       "      <th>first_299</th>\n",
       "    </tr>\n",
       "    <tr>\n",
       "      <th>thread_num</th>\n",
       "      <th></th>\n",
       "      <th></th>\n",
       "      <th></th>\n",
       "      <th></th>\n",
       "      <th></th>\n",
       "      <th></th>\n",
       "      <th></th>\n",
       "      <th></th>\n",
       "      <th></th>\n",
       "      <th></th>\n",
       "      <th></th>\n",
       "      <th></th>\n",
       "      <th></th>\n",
       "      <th></th>\n",
       "      <th></th>\n",
       "      <th></th>\n",
       "      <th></th>\n",
       "      <th></th>\n",
       "      <th></th>\n",
       "      <th></th>\n",
       "      <th></th>\n",
       "    </tr>\n",
       "  </thead>\n",
       "  <tbody>\n",
       "    <tr>\n",
       "      <th>14868</th>\n",
       "      <td>12</td>\n",
       "      <td>2.484907</td>\n",
       "      <td>-0.134918</td>\n",
       "      <td>-0.081951</td>\n",
       "      <td>0.127861</td>\n",
       "      <td>-0.172295</td>\n",
       "      <td>0.190115</td>\n",
       "      <td>-0.173446</td>\n",
       "      <td>0.036431</td>\n",
       "      <td>0.052020</td>\n",
       "      <td>...</td>\n",
       "      <td>-0.259338</td>\n",
       "      <td>-0.065182</td>\n",
       "      <td>-0.064679</td>\n",
       "      <td>-0.119324</td>\n",
       "      <td>0.027151</td>\n",
       "      <td>0.044259</td>\n",
       "      <td>-0.078820</td>\n",
       "      <td>-0.187372</td>\n",
       "      <td>-0.012146</td>\n",
       "      <td>0.149975</td>\n",
       "    </tr>\n",
       "    <tr>\n",
       "      <th>27839</th>\n",
       "      <td>308</td>\n",
       "      <td>5.730100</td>\n",
       "      <td>-0.009330</td>\n",
       "      <td>0.176693</td>\n",
       "      <td>-0.041203</td>\n",
       "      <td>0.203682</td>\n",
       "      <td>0.243933</td>\n",
       "      <td>-0.048978</td>\n",
       "      <td>0.046361</td>\n",
       "      <td>0.128970</td>\n",
       "      <td>...</td>\n",
       "      <td>-0.147977</td>\n",
       "      <td>0.019893</td>\n",
       "      <td>-0.036932</td>\n",
       "      <td>-0.083081</td>\n",
       "      <td>-0.012876</td>\n",
       "      <td>0.028734</td>\n",
       "      <td>-0.064797</td>\n",
       "      <td>-0.077120</td>\n",
       "      <td>0.034178</td>\n",
       "      <td>0.035782</td>\n",
       "    </tr>\n",
       "    <tr>\n",
       "      <th>28183</th>\n",
       "      <td>185</td>\n",
       "      <td>5.220356</td>\n",
       "      <td>-0.138806</td>\n",
       "      <td>0.162982</td>\n",
       "      <td>-0.037537</td>\n",
       "      <td>-0.148090</td>\n",
       "      <td>0.067772</td>\n",
       "      <td>-0.027928</td>\n",
       "      <td>0.068096</td>\n",
       "      <td>-0.051705</td>\n",
       "      <td>...</td>\n",
       "      <td>-0.160191</td>\n",
       "      <td>0.035747</td>\n",
       "      <td>-0.049968</td>\n",
       "      <td>-0.099663</td>\n",
       "      <td>-0.015113</td>\n",
       "      <td>0.053394</td>\n",
       "      <td>-0.078697</td>\n",
       "      <td>-0.062419</td>\n",
       "      <td>0.003403</td>\n",
       "      <td>0.022516</td>\n",
       "    </tr>\n",
       "    <tr>\n",
       "      <th>28239</th>\n",
       "      <td>13</td>\n",
       "      <td>2.564949</td>\n",
       "      <td>0.180485</td>\n",
       "      <td>-0.180085</td>\n",
       "      <td>0.141012</td>\n",
       "      <td>0.084260</td>\n",
       "      <td>0.177981</td>\n",
       "      <td>0.156179</td>\n",
       "      <td>-0.212108</td>\n",
       "      <td>-0.284140</td>\n",
       "      <td>...</td>\n",
       "      <td>-0.186458</td>\n",
       "      <td>0.020265</td>\n",
       "      <td>-0.009883</td>\n",
       "      <td>-0.069076</td>\n",
       "      <td>-0.039644</td>\n",
       "      <td>0.029223</td>\n",
       "      <td>-0.058409</td>\n",
       "      <td>-0.047814</td>\n",
       "      <td>0.006705</td>\n",
       "      <td>0.041114</td>\n",
       "    </tr>\n",
       "    <tr>\n",
       "      <th>28682</th>\n",
       "      <td>253</td>\n",
       "      <td>5.533389</td>\n",
       "      <td>-0.038636</td>\n",
       "      <td>0.009004</td>\n",
       "      <td>0.022752</td>\n",
       "      <td>-0.029003</td>\n",
       "      <td>0.166535</td>\n",
       "      <td>0.019750</td>\n",
       "      <td>-0.122702</td>\n",
       "      <td>0.032978</td>\n",
       "      <td>...</td>\n",
       "      <td>-0.130157</td>\n",
       "      <td>0.004898</td>\n",
       "      <td>-0.013040</td>\n",
       "      <td>-0.064136</td>\n",
       "      <td>-0.050408</td>\n",
       "      <td>0.003048</td>\n",
       "      <td>-0.074252</td>\n",
       "      <td>-0.072235</td>\n",
       "      <td>0.000071</td>\n",
       "      <td>0.009430</td>\n",
       "    </tr>\n",
       "  </tbody>\n",
       "</table>\n",
       "<p>5 rows × 602 columns</p>\n",
       "</div>"
      ],
      "text/plain": [
       "            posts  posts_log  thread_name_0  thread_name_1  thread_name_2  \\\n",
       "thread_num                                                                  \n",
       "14868          12   2.484907      -0.134918      -0.081951       0.127861   \n",
       "27839         308   5.730100      -0.009330       0.176693      -0.041203   \n",
       "28183         185   5.220356      -0.138806       0.162982      -0.037537   \n",
       "28239          13   2.564949       0.180485      -0.180085       0.141012   \n",
       "28682         253   5.533389      -0.038636       0.009004       0.022752   \n",
       "\n",
       "            thread_name_3  thread_name_4  thread_name_5  thread_name_6  \\\n",
       "thread_num                                                               \n",
       "14868           -0.172295       0.190115      -0.173446       0.036431   \n",
       "27839            0.203682       0.243933      -0.048978       0.046361   \n",
       "28183           -0.148090       0.067772      -0.027928       0.068096   \n",
       "28239            0.084260       0.177981       0.156179      -0.212108   \n",
       "28682           -0.029003       0.166535       0.019750      -0.122702   \n",
       "\n",
       "            thread_name_7    ...      first_290  first_291  first_292  \\\n",
       "thread_num                   ...                                        \n",
       "14868            0.052020    ...      -0.259338  -0.065182  -0.064679   \n",
       "27839            0.128970    ...      -0.147977   0.019893  -0.036932   \n",
       "28183           -0.051705    ...      -0.160191   0.035747  -0.049968   \n",
       "28239           -0.284140    ...      -0.186458   0.020265  -0.009883   \n",
       "28682            0.032978    ...      -0.130157   0.004898  -0.013040   \n",
       "\n",
       "            first_293  first_294  first_295  first_296  first_297  first_298  \\\n",
       "thread_num                                                                     \n",
       "14868       -0.119324   0.027151   0.044259  -0.078820  -0.187372  -0.012146   \n",
       "27839       -0.083081  -0.012876   0.028734  -0.064797  -0.077120   0.034178   \n",
       "28183       -0.099663  -0.015113   0.053394  -0.078697  -0.062419   0.003403   \n",
       "28239       -0.069076  -0.039644   0.029223  -0.058409  -0.047814   0.006705   \n",
       "28682       -0.064136  -0.050408   0.003048  -0.074252  -0.072235   0.000071   \n",
       "\n",
       "            first_299  \n",
       "thread_num             \n",
       "14868        0.149975  \n",
       "27839        0.035782  \n",
       "28183        0.022516  \n",
       "28239        0.041114  \n",
       "28682        0.009430  \n",
       "\n",
       "[5 rows x 602 columns]"
      ]
     },
     "execution_count": 16,
     "metadata": {},
     "output_type": "execute_result"
    }
   ],
   "source": [
    "text_features = thread_text_vectors.columns\n",
    "numeric_features = thread_numeric_vectors.columns\n",
    "\n",
    "X = pd.concat([thread_numeric_vectors, thread_text_vectors], axis='columns')\n",
    "X.head()"
   ]
  },
  {
   "cell_type": "markdown",
   "metadata": {},
   "source": [
    "Our targets are the same as the second model:"
   ]
  },
  {
   "cell_type": "code",
   "execution_count": 17,
   "metadata": {},
   "outputs": [
    {
     "data": {
      "text/html": [
       "<div>\n",
       "<style scoped>\n",
       "    .dataframe tbody tr th:only-of-type {\n",
       "        vertical-align: middle;\n",
       "    }\n",
       "\n",
       "    .dataframe tbody tr th {\n",
       "        vertical-align: top;\n",
       "    }\n",
       "\n",
       "    .dataframe thead th {\n",
       "        text-align: right;\n",
       "    }\n",
       "</style>\n",
       "<table border=\"1\" class=\"dataframe\">\n",
       "  <thead>\n",
       "    <tr style=\"text-align: right;\">\n",
       "      <th></th>\n",
       "      <th>thread_label_id</th>\n",
       "      <th>is_game</th>\n",
       "    </tr>\n",
       "    <tr>\n",
       "      <th>thread_num</th>\n",
       "      <th></th>\n",
       "      <th></th>\n",
       "    </tr>\n",
       "  </thead>\n",
       "  <tbody>\n",
       "    <tr>\n",
       "      <th>45016</th>\n",
       "      <td>8</td>\n",
       "      <td>0</td>\n",
       "    </tr>\n",
       "    <tr>\n",
       "      <th>88720</th>\n",
       "      <td>8</td>\n",
       "      <td>0</td>\n",
       "    </tr>\n",
       "    <tr>\n",
       "      <th>39338</th>\n",
       "      <td>8</td>\n",
       "      <td>0</td>\n",
       "    </tr>\n",
       "    <tr>\n",
       "      <th>34959</th>\n",
       "      <td>8</td>\n",
       "      <td>0</td>\n",
       "    </tr>\n",
       "    <tr>\n",
       "      <th>64229</th>\n",
       "      <td>8</td>\n",
       "      <td>0</td>\n",
       "    </tr>\n",
       "  </tbody>\n",
       "</table>\n",
       "</div>"
      ],
      "text/plain": [
       "            thread_label_id  is_game\n",
       "thread_num                          \n",
       "45016                     8        0\n",
       "88720                     8        0\n",
       "39338                     8        0\n",
       "34959                     8        0\n",
       "64229                     8        0"
      ]
     },
     "execution_count": 17,
     "metadata": {},
     "output_type": "execute_result"
    }
   ],
   "source": [
    "y = thread['thread_label_id']\n",
    "\n",
    "y_aux = y.apply(lambda x: 0 if (x==label_map['other']) else 1).rename('is_game')\n",
    "\n",
    "pd.concat([y, y_aux], axis='columns').head()"
   ]
  },
  {
   "cell_type": "markdown",
   "metadata": {},
   "source": [
    "### Review"
   ]
  },
  {
   "cell_type": "markdown",
   "metadata": {},
   "source": [
    "So, what have I done so far? Let's list.\n",
    "\n",
    "- Selected title, first post, and maybe a concatenation of all posts as our \"documents\".\n",
    "- Turned each \"document\" into a vector, using pre-trained word vectors (the document vector is the average of the word vectors).\n",
    "- Added number of posts (and its log) as additional features.\n",
    "\n",
    "Note that we probably need to scale the latter two for some models, because the others components are normalized to 1."
   ]
  },
  {
   "cell_type": "markdown",
   "metadata": {},
   "source": [
    "## Split dataset into \"training\" and \"validation\""
   ]
  },
  {
   "cell_type": "markdown",
   "metadata": {},
   "source": [
    "In order to check the quality of our model in a more realistic setting, we will split all our input (training) data into a \"training set\" (which our model will see and learn from) and a \"validation set\" (where we see how well our model generalized). [Relevant link](https://scikit-learn.org/stable/modules/generated/sklearn.model_selection.train_test_split.html)."
   ]
  },
  {
   "cell_type": "code",
   "execution_count": 18,
   "metadata": {},
   "outputs": [],
   "source": [
    "from sklearn.model_selection import train_test_split"
   ]
  },
  {
   "cell_type": "code",
   "execution_count": 19,
   "metadata": {},
   "outputs": [],
   "source": [
    "# NOTE: setting the `random_state` lets you get the same results with the pseudo-random generator\n",
    "validation_pct = 0.25\n",
    "X_train, X_val = train_test_split(X, test_size=validation_pct, random_state=99)"
   ]
  },
  {
   "cell_type": "code",
   "execution_count": 20,
   "metadata": {},
   "outputs": [
    {
     "data": {
      "text/plain": [
       "((268, 602), (90, 602))"
      ]
     },
     "execution_count": 20,
     "metadata": {},
     "output_type": "execute_result"
    }
   ],
   "source": [
    "idx_train = X_train.index\n",
    "idx_val = X_val.index\n",
    "\n",
    "X_train.shape, X_val.shape"
   ]
  },
  {
   "cell_type": "markdown",
   "metadata": {},
   "source": [
    "## Fit first (auxilliary) model"
   ]
  },
  {
   "cell_type": "code",
   "execution_count": 21,
   "metadata": {},
   "outputs": [],
   "source": [
    "from sklearn.metrics import confusion_matrix, accuracy_score, classification_report"
   ]
  },
  {
   "cell_type": "code",
   "execution_count": 22,
   "metadata": {},
   "outputs": [],
   "source": [
    "from sklearn.ensemble import RandomForestClassifier"
   ]
  },
  {
   "cell_type": "code",
   "execution_count": 23,
   "metadata": {},
   "outputs": [],
   "source": [
    "cls1 = RandomForestClassifier(n_estimators=100, max_depth=2, random_state=42)"
   ]
  },
  {
   "cell_type": "code",
   "execution_count": 24,
   "metadata": {},
   "outputs": [
    {
     "data": {
      "text/plain": [
       "RandomForestClassifier(bootstrap=True, class_weight=None, criterion='gini',\n",
       "            max_depth=2, max_features='auto', max_leaf_nodes=None,\n",
       "            min_impurity_decrease=0.0, min_impurity_split=None,\n",
       "            min_samples_leaf=1, min_samples_split=2,\n",
       "            min_weight_fraction_leaf=0.0, n_estimators=100, n_jobs=None,\n",
       "            oob_score=False, random_state=42, verbose=0, warm_start=False)"
      ]
     },
     "execution_count": 24,
     "metadata": {},
     "output_type": "execute_result"
    }
   ],
   "source": [
    "cls1.fit(X_train, y_aux.reindex(idx_train))"
   ]
  },
  {
   "cell_type": "code",
   "execution_count": 25,
   "metadata": {},
   "outputs": [],
   "source": [
    "# In-sample and out-of-sample predictions for auxilliary target\n",
    "y_aux_train_pred = pd.Series(cls1.predict(X_train), index=idx_train)\n",
    "y_aux_val_pred = pd.Series(cls1.predict(X_val), index=idx_val)"
   ]
  },
  {
   "cell_type": "code",
   "execution_count": 26,
   "metadata": {},
   "outputs": [
    {
     "name": "stdout",
     "output_type": "stream",
     "text": [
      "Aux train:\n",
      "Accuracy: 0.9402985074626866\n",
      "Confusion:\n",
      "[[141   6]\n",
      " [ 10 111]]\n"
     ]
    }
   ],
   "source": [
    "y_t, y_p = y_aux.reindex(idx_train), y_aux_train_pred\n",
    "print(\"Aux train:\")\n",
    "print(\"Accuracy:\", accuracy_score(y_t, y_p))\n",
    "print(\"Confusion:\", confusion_matrix(y_t, y_p), sep=\"\\n\")"
   ]
  },
  {
   "cell_type": "code",
   "execution_count": 27,
   "metadata": {},
   "outputs": [
    {
     "name": "stdout",
     "output_type": "stream",
     "text": [
      "Aux validation:\n",
      "Accuracy: 0.8666666666666667\n",
      "Confusion:\n",
      "[[52  2]\n",
      " [10 26]]\n"
     ]
    }
   ],
   "source": [
    "y_t, y_p = y_aux.reindex(idx_val), y_aux_val_pred \n",
    "print(\"Aux validation:\")\n",
    "print(\"Accuracy:\", accuracy_score(y_t, y_p))\n",
    "print(\"Confusion:\", confusion_matrix(y_t, y_p), sep=\"\\n\")"
   ]
  },
  {
   "cell_type": "markdown",
   "metadata": {},
   "source": [
    "## Fit second (game) model"
   ]
  },
  {
   "cell_type": "code",
   "execution_count": 28,
   "metadata": {},
   "outputs": [
    {
     "data": {
      "text/plain": [
       "True"
      ]
     },
     "execution_count": 28,
     "metadata": {},
     "output_type": "execute_result"
    }
   ],
   "source": [
    "# Our training index is: train states, where we know we have games (that is, y_aux == 1)\n",
    "idx_game_train = y_aux[y_aux == 1].reindex(idx_train).dropna().index\n",
    "# CHECK\n",
    "(y_aux[idx_game_train] == 1).all()"
   ]
  },
  {
   "cell_type": "code",
   "execution_count": 29,
   "metadata": {},
   "outputs": [
    {
     "data": {
      "text/plain": [
       "True"
      ]
     },
     "execution_count": 29,
     "metadata": {},
     "output_type": "execute_result"
    }
   ],
   "source": [
    "# Our validation index is: validation states, where we PREDICTED we have games (that is, y_aux_val_pred == 1)\n",
    "idx_game_val = y_aux_val_pred[y_aux_val_pred == 1].dropna().index\n",
    "# CHECK\n",
    "(y_aux_val_pred[idx_game_val] == 1).all()"
   ]
  },
  {
   "cell_type": "code",
   "execution_count": 30,
   "metadata": {},
   "outputs": [],
   "source": [
    "cls2 = RandomForestClassifier(n_estimators=200, max_depth=3, max_leaf_nodes=10, random_state=68)"
   ]
  },
  {
   "cell_type": "code",
   "execution_count": 31,
   "metadata": {},
   "outputs": [
    {
     "data": {
      "text/plain": [
       "RandomForestClassifier(bootstrap=True, class_weight=None, criterion='gini',\n",
       "            max_depth=3, max_features='auto', max_leaf_nodes=10,\n",
       "            min_impurity_decrease=0.0, min_impurity_split=None,\n",
       "            min_samples_leaf=1, min_samples_split=2,\n",
       "            min_weight_fraction_leaf=0.0, n_estimators=200, n_jobs=None,\n",
       "            oob_score=False, random_state=68, verbose=0, warm_start=False)"
      ]
     },
     "execution_count": 31,
     "metadata": {},
     "output_type": "execute_result"
    }
   ],
   "source": [
    "cls2.fit(X_train.reindex(idx_game_train), y.reindex(idx_game_train))"
   ]
  },
  {
   "cell_type": "code",
   "execution_count": 32,
   "metadata": {},
   "outputs": [],
   "source": [
    "# In-sample and out-of-sample predictions for auxilliary target\n",
    "y_game_train_pred = pd.Series(cls2.predict(X_train.reindex(idx_game_train)), index=idx_game_train)\n",
    "y_game_val_pred = pd.Series(cls2.predict(X_val.reindex(idx_game_val)), index=idx_game_val)"
   ]
  },
  {
   "cell_type": "code",
   "execution_count": 33,
   "metadata": {},
   "outputs": [
    {
     "name": "stdout",
     "output_type": "stream",
     "text": [
      "Game train:\n",
      "Accuracy: 0.9256198347107438\n",
      "Confusion:\n",
      "[[10  0  0  0  1  0  0  0  0  0  0  0]\n",
      " [ 0 19  0  0  0  0  0  0  0  0  0  0]\n",
      " [ 0  0 11  0  0  0  0  0  0  0  0  0]\n",
      " [ 0  0  0 14  0  0  0  0  0  0  0  0]\n",
      " [ 0  0  0  0 26  0  0  0  0  0  0  0]\n",
      " [ 0  0  0  0  1  0  0  0  0  0  0  0]\n",
      " [ 0  0  0  0  1  0  0  0  0  0  0  0]\n",
      " [ 0  0  0  0  2  0  0  0  0  0  0  0]\n",
      " [ 0  0  0  0  0  0  0  0 18  0  0  0]\n",
      " [ 0  0  0  0  0  0  0  0  0  3  0  0]\n",
      " [ 0  2  0  0  1  0  0  0  0  0  5  0]\n",
      " [ 0  1  0  0  0  0  0  0  0  0  0  6]]\n"
     ]
    }
   ],
   "source": [
    "y_t, y_p = y.reindex(idx_game_train), y_game_train_pred\n",
    "print(\"Game train:\")\n",
    "print(\"Accuracy:\", accuracy_score(y_t, y_p))\n",
    "print(\"Confusion:\", confusion_matrix(y_t, y_p), sep=\"\\n\")"
   ]
  },
  {
   "cell_type": "code",
   "execution_count": 34,
   "metadata": {},
   "outputs": [
    {
     "name": "stdout",
     "output_type": "stream",
     "text": [
      "Game validation:\n",
      "Accuracy: 0.5357142857142857\n",
      "Confusion:\n",
      "[[0 0 0 0 1 0 0 0 0 0 0 0]\n",
      " [0 2 0 0 0 0 0 0 0 0 0 0]\n",
      " [0 0 0 0 1 0 0 0 0 0 0 0]\n",
      " [0 0 0 0 5 0 0 0 0 0 0 0]\n",
      " [0 0 0 0 9 0 0 0 0 0 0 0]\n",
      " [0 0 0 0 1 0 0 0 0 0 0 0]\n",
      " [0 0 0 0 1 0 0 0 0 0 0 0]\n",
      " [0 1 0 0 1 0 0 0 0 0 0 0]\n",
      " [0 0 0 0 0 0 0 0 2 0 0 0]\n",
      " [0 0 0 0 1 0 0 0 0 0 0 0]\n",
      " [0 0 0 0 1 0 0 0 0 0 0 0]\n",
      " [0 0 0 0 0 0 0 0 0 0 0 2]]\n"
     ]
    }
   ],
   "source": [
    "y_t, y_p = y.reindex(idx_game_val), y_game_val_pred\n",
    "print(\"Game validation:\")\n",
    "print(\"Accuracy:\", accuracy_score(y_t, y_p))\n",
    "print(\"Confusion:\", confusion_matrix(y_t, y_p), sep=\"\\n\")"
   ]
  },
  {
   "cell_type": "markdown",
   "metadata": {},
   "source": [
    "Well obviously the algorithm overfit on the majority class (the fifth column, with '26' on the diagonal).\n",
    "\n",
    "We will tune hyperparameters in another notebook. However, this seems to have worked out well enough."
   ]
  },
  {
   "cell_type": "markdown",
   "metadata": {},
   "source": [
    "## Score the resulting model"
   ]
  },
  {
   "cell_type": "markdown",
   "metadata": {},
   "source": [
    "Our model consists of two parts - let's see how well we did altogether:"
   ]
  },
  {
   "cell_type": "code",
   "execution_count": 35,
   "metadata": {},
   "outputs": [],
   "source": [
    "# Fill with \"other\", and when an actual game - fill with the game :)\n",
    "y_train_pred = pd.Series(label_map['other'], index=idx_train)\n",
    "y_train_pred[idx_game_train] = y_game_train_pred"
   ]
  },
  {
   "cell_type": "code",
   "execution_count": 36,
   "metadata": {},
   "outputs": [],
   "source": [
    "# Same with the validation, because our index is dynamic :)\n",
    "y_val_pred = pd.Series(label_map['other'], index=idx_val)\n",
    "y_val_pred[idx_game_val] = y_game_val_pred"
   ]
  },
  {
   "cell_type": "code",
   "execution_count": 37,
   "metadata": {},
   "outputs": [
    {
     "name": "stdout",
     "output_type": "stream",
     "text": [
      "Total train:\n",
      "Accuracy: 0.9664179104477612\n",
      "Confusion:\n",
      "[[ 10   0   0   0   1   0   0   0   0   0   0   0   0]\n",
      " [  0  19   0   0   0   0   0   0   0   0   0   0   0]\n",
      " [  0   0  11   0   0   0   0   0   0   0   0   0   0]\n",
      " [  0   0   0  14   0   0   0   0   0   0   0   0   0]\n",
      " [  0   0   0   0  26   0   0   0   0   0   0   0   0]\n",
      " [  0   0   0   0   1   0   0   0   0   0   0   0   0]\n",
      " [  0   0   0   0   1   0   0   0   0   0   0   0   0]\n",
      " [  0   0   0   0   2   0   0   0   0   0   0   0   0]\n",
      " [  0   0   0   0   0   0   0   0 147   0   0   0   0]\n",
      " [  0   0   0   0   0   0   0   0   0  18   0   0   0]\n",
      " [  0   0   0   0   0   0   0   0   0   0   3   0   0]\n",
      " [  0   2   0   0   1   0   0   0   0   0   0   5   0]\n",
      " [  0   1   0   0   0   0   0   0   0   0   0   0   6]]\n"
     ]
    }
   ],
   "source": [
    "y_t, y_p = y.reindex(idx_train), y_train_pred\n",
    "print(\"Total train:\")\n",
    "print(\"Accuracy:\", accuracy_score(y_t, y_p))\n",
    "print(\"Confusion:\", confusion_matrix(y_t, y_p), sep=\"\\n\")"
   ]
  },
  {
   "cell_type": "code",
   "execution_count": 38,
   "metadata": {},
   "outputs": [
    {
     "name": "stdout",
     "output_type": "stream",
     "text": [
      "Total val:\n",
      "Accuracy: 0.7444444444444445\n",
      "Confusion:\n",
      "[[ 0  0  0  0  1  0  0  2  0  0  0  0]\n",
      " [ 0  2  0  0  0  0  0  2  0  0  0  0]\n",
      " [ 0  0  0  0  1  0  0  1  0  0  0  0]\n",
      " [ 0  0  0  0  5  0  0  2  0  0  0  0]\n",
      " [ 0  0  0  0  9  0  0  1  0  0  0  0]\n",
      " [ 0  0  0  0  1  0  0  1  0  0  0  0]\n",
      " [ 0  0  0  0  1  0  0  0  0  0  0  0]\n",
      " [ 0  1  0  0  1  0  0 52  0  0  0  0]\n",
      " [ 0  0  0  0  0  0  0  0  2  0  0  0]\n",
      " [ 0  0  0  0  1  0  0  0  0  0  0  0]\n",
      " [ 0  0  0  0  1  0  0  1  0  0  0  0]\n",
      " [ 0  0  0  0  0  0  0  0  0  0  0  2]]\n"
     ]
    },
    {
     "name": "stderr",
     "output_type": "stream",
     "text": [
      "D:\\Conda\\envs\\kaggle-mafia-gametype\\lib\\site-packages\\sklearn\\metrics\\classification.py:1143: UndefinedMetricWarning: Precision and F-score are ill-defined and being set to 0.0 in labels with no predicted samples.\n",
      "  'precision', 'predicted', average, warn_for)\n"
     ]
    },
    {
     "name": "stdout",
     "output_type": "stream",
     "text": [
      "              precision    recall  f1-score   support\n",
      "\n",
      "           0       0.00      0.00      0.00         3\n",
      "           1       0.67      0.50      0.57         4\n",
      "           2       0.00      0.00      0.00         2\n",
      "           3       0.00      0.00      0.00         7\n",
      "           4       0.43      0.90      0.58        10\n",
      "           5       0.00      0.00      0.00         2\n",
      "           6       0.00      0.00      0.00         1\n",
      "           8       0.84      0.96      0.90        54\n",
      "           9       1.00      1.00      1.00         2\n",
      "          10       0.00      0.00      0.00         1\n",
      "          11       0.00      0.00      0.00         2\n",
      "          12       1.00      1.00      1.00         2\n",
      "\n",
      "   micro avg       0.74      0.74      0.74        90\n",
      "   macro avg       0.33      0.36      0.34        90\n",
      "weighted avg       0.62      0.74      0.67        90\n",
      "\n"
     ]
    }
   ],
   "source": [
    "y_t, y_p = y.reindex(idx_val), y_val_pred\n",
    "print(\"Total val:\")\n",
    "print(\"Accuracy:\", accuracy_score(y_t, y_p))\n",
    "print(\"Confusion:\", confusion_matrix(y_t, y_p), sep=\"\\n\")\n",
    "print(classification_report(y_t, y_p))"
   ]
  },
  {
   "cell_type": "markdown",
   "metadata": {},
   "source": [
    "0.75 accuracy! That's pretty good for a slightly-tuned model. That's significantly better than the baseline of ~0.55!\n",
    "\n",
    "We still have some classes that aren't predicted in the validation set (actually quite a few - 7 out of 12 have 0 predicted!), which is pretty bad (obviously). \n",
    "However, we did predict something for all but 3 of them on the training set (and those 3 had 4 threads in total... so...). \n",
    "\n",
    "Let's freeze this model for now, and move to the next notebook. I won't predict on the test set, because I can see public *and* private scores, but here is one place where I would suggest you do it yourself. ;)"
   ]
  }
 ],
 "metadata": {
  "kernelspec": {
   "display_name": "env-mafia",
   "language": "python",
   "name": "env-mafia"
  },
  "language_info": {
   "codemirror_mode": {
    "name": "ipython",
    "version": 3
   },
   "file_extension": ".py",
   "mimetype": "text/x-python",
   "name": "python",
   "nbconvert_exporter": "python",
   "pygments_lexer": "ipython3",
   "version": "3.7.1"
  }
 },
 "nbformat": 4,
 "nbformat_minor": 2
}
